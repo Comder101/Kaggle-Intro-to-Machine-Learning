{
 "cells": [
  {
   "cell_type": "markdown",
   "id": "02a0f43e",
   "metadata": {
    "papermill": {
     "duration": 0.006821,
     "end_time": "2023-02-24T17:38:18.208248",
     "exception": false,
     "start_time": "2023-02-24T17:38:18.201427",
     "status": "completed"
    },
    "tags": []
   },
   "source": [
    "**This notebook is an exercise in the [Introduction to Machine Learning](https://www.kaggle.com/learn/intro-to-machine-learning) course.  You can reference the tutorial at [this link](https://www.kaggle.com/dansbecker/your-first-machine-learning-model).**\n",
    "\n",
    "---\n"
   ]
  },
  {
   "cell_type": "markdown",
   "id": "a47f3f8a",
   "metadata": {
    "papermill": {
     "duration": 0.00539,
     "end_time": "2023-02-24T17:38:18.219881",
     "exception": false,
     "start_time": "2023-02-24T17:38:18.214491",
     "status": "completed"
    },
    "tags": []
   },
   "source": [
    "## Recap\n",
    "So far, you have loaded your data and reviewed it with the following code. Run this cell to set up your coding environment where the previous step left off."
   ]
  },
  {
   "cell_type": "code",
   "execution_count": 1,
   "id": "e8246c2d",
   "metadata": {
    "execution": {
     "iopub.execute_input": "2023-02-24T17:38:18.233608Z",
     "iopub.status.busy": "2023-02-24T17:38:18.233055Z",
     "iopub.status.idle": "2023-02-24T17:38:19.872224Z",
     "shell.execute_reply": "2023-02-24T17:38:19.871080Z"
    },
    "papermill": {
     "duration": 1.650655,
     "end_time": "2023-02-24T17:38:19.876131",
     "exception": false,
     "start_time": "2023-02-24T17:38:18.225476",
     "status": "completed"
    },
    "tags": []
   },
   "outputs": [
    {
     "name": "stdout",
     "output_type": "stream",
     "text": [
      "Setup Complete\n"
     ]
    }
   ],
   "source": [
    "# Code you have previously used to load data\n",
    "import pandas as pd\n",
    "\n",
    "# Path of the file to read\n",
    "iowa_file_path = '../input/home-data-for-ml-course/train.csv'\n",
    "\n",
    "home_data = pd.read_csv(iowa_file_path)\n",
    "\n",
    "# Set up code checking\n",
    "from learntools.core import binder\n",
    "binder.bind(globals())\n",
    "from learntools.machine_learning.ex3 import *\n",
    "\n",
    "print(\"Setup Complete\")"
   ]
  },
  {
   "cell_type": "markdown",
   "id": "86160fc1",
   "metadata": {
    "papermill": {
     "duration": 0.005626,
     "end_time": "2023-02-24T17:38:19.888849",
     "exception": false,
     "start_time": "2023-02-24T17:38:19.883223",
     "status": "completed"
    },
    "tags": []
   },
   "source": [
    "# Exercises\n",
    "\n",
    "## Step 1: Specify Prediction Target\n",
    "Select the target variable, which corresponds to the sales price. Save this to a new variable called `y`. You'll need to print a list of the columns to find the name of the column you need.\n"
   ]
  },
  {
   "cell_type": "markdown",
   "id": "0d6c4d87",
   "metadata": {
    "jupyter": {
     "outputs_hidden": true
    },
    "papermill": {
     "duration": 0.005395,
     "end_time": "2023-02-24T17:38:19.899909",
     "exception": false,
     "start_time": "2023-02-24T17:38:19.894514",
     "status": "completed"
    },
    "tags": []
   },
   "source": [
    "# print the list of columns in the dataset to find the name of the prediction target\n",
    "home_data.columns"
   ]
  },
  {
   "cell_type": "code",
   "execution_count": 2,
   "id": "6f71f937",
   "metadata": {
    "execution": {
     "iopub.execute_input": "2023-02-24T17:38:19.913308Z",
     "iopub.status.busy": "2023-02-24T17:38:19.912842Z",
     "iopub.status.idle": "2023-02-24T17:38:19.923181Z",
     "shell.execute_reply": "2023-02-24T17:38:19.921498Z"
    },
    "papermill": {
     "duration": 0.021058,
     "end_time": "2023-02-24T17:38:19.926652",
     "exception": false,
     "start_time": "2023-02-24T17:38:19.905594",
     "status": "completed"
    },
    "tags": []
   },
   "outputs": [
    {
     "data": {
      "text/plain": [
       "Index(['Id', 'MSSubClass', 'MSZoning', 'LotFrontage', 'LotArea', 'Street',\n",
       "       'Alley', 'LotShape', 'LandContour', 'Utilities', 'LotConfig',\n",
       "       'LandSlope', 'Neighborhood', 'Condition1', 'Condition2', 'BldgType',\n",
       "       'HouseStyle', 'OverallQual', 'OverallCond', 'YearBuilt', 'YearRemodAdd',\n",
       "       'RoofStyle', 'RoofMatl', 'Exterior1st', 'Exterior2nd', 'MasVnrType',\n",
       "       'MasVnrArea', 'ExterQual', 'ExterCond', 'Foundation', 'BsmtQual',\n",
       "       'BsmtCond', 'BsmtExposure', 'BsmtFinType1', 'BsmtFinSF1',\n",
       "       'BsmtFinType2', 'BsmtFinSF2', 'BsmtUnfSF', 'TotalBsmtSF', 'Heating',\n",
       "       'HeatingQC', 'CentralAir', 'Electrical', '1stFlrSF', '2ndFlrSF',\n",
       "       'LowQualFinSF', 'GrLivArea', 'BsmtFullBath', 'BsmtHalfBath', 'FullBath',\n",
       "       'HalfBath', 'BedroomAbvGr', 'KitchenAbvGr', 'KitchenQual',\n",
       "       'TotRmsAbvGrd', 'Functional', 'Fireplaces', 'FireplaceQu', 'GarageType',\n",
       "       'GarageYrBlt', 'GarageFinish', 'GarageCars', 'GarageArea', 'GarageQual',\n",
       "       'GarageCond', 'PavedDrive', 'WoodDeckSF', 'OpenPorchSF',\n",
       "       'EnclosedPorch', '3SsnPorch', 'ScreenPorch', 'PoolArea', 'PoolQC',\n",
       "       'Fence', 'MiscFeature', 'MiscVal', 'MoSold', 'YrSold', 'SaleType',\n",
       "       'SaleCondition', 'SalePrice'],\n",
       "      dtype='object')"
      ]
     },
     "execution_count": 2,
     "metadata": {},
     "output_type": "execute_result"
    }
   ],
   "source": [
    "home_data.columns"
   ]
  },
  {
   "cell_type": "code",
   "execution_count": 3,
   "id": "8ed08169",
   "metadata": {
    "execution": {
     "iopub.execute_input": "2023-02-24T17:38:19.941396Z",
     "iopub.status.busy": "2023-02-24T17:38:19.940975Z",
     "iopub.status.idle": "2023-02-24T17:38:19.956540Z",
     "shell.execute_reply": "2023-02-24T17:38:19.955404Z"
    },
    "papermill": {
     "duration": 0.026166,
     "end_time": "2023-02-24T17:38:19.959362",
     "exception": false,
     "start_time": "2023-02-24T17:38:19.933196",
     "status": "completed"
    },
    "tags": []
   },
   "outputs": [
    {
     "data": {
      "application/javascript": [
       "parent.postMessage({\"jupyterEvent\": \"custom.exercise_interaction\", \"data\": {\"outcomeType\": 1, \"valueTowardsCompletion\": 0.25, \"interactionType\": 1, \"questionType\": 2, \"questionId\": \"1_SetTarget\", \"learnToolsVersion\": \"0.3.4\", \"failureMessage\": \"\", \"exceptionClass\": \"\", \"trace\": \"\"}}, \"*\")"
      ],
      "text/plain": [
       "<IPython.core.display.Javascript object>"
      ]
     },
     "metadata": {},
     "output_type": "display_data"
    },
    {
     "data": {
      "text/markdown": [
       "<span style=\"color:#33cc33\">Correct</span>"
      ],
      "text/plain": [
       "Correct"
      ]
     },
     "metadata": {},
     "output_type": "display_data"
    }
   ],
   "source": [
    "y = home_data['SalePrice']\n",
    "\n",
    "\n",
    "# Check your answer\n",
    "step_1.check()"
   ]
  },
  {
   "cell_type": "code",
   "execution_count": 4,
   "id": "d7eab14a",
   "metadata": {
    "execution": {
     "iopub.execute_input": "2023-02-24T17:38:19.974680Z",
     "iopub.status.busy": "2023-02-24T17:38:19.973271Z",
     "iopub.status.idle": "2023-02-24T17:38:19.979272Z",
     "shell.execute_reply": "2023-02-24T17:38:19.977852Z"
    },
    "papermill": {
     "duration": 0.016664,
     "end_time": "2023-02-24T17:38:19.982228",
     "exception": false,
     "start_time": "2023-02-24T17:38:19.965564",
     "status": "completed"
    },
    "tags": []
   },
   "outputs": [],
   "source": [
    "# The lines below will show you a hint or the solution.\n",
    "# step_1.hint() \n",
    "# step_1.solution()"
   ]
  },
  {
   "cell_type": "markdown",
   "id": "0cb5d711",
   "metadata": {
    "papermill": {
     "duration": 0.005682,
     "end_time": "2023-02-24T17:38:19.994198",
     "exception": false,
     "start_time": "2023-02-24T17:38:19.988516",
     "status": "completed"
    },
    "tags": []
   },
   "source": [
    "## Step 2: Create X\n",
    "Now you will create a DataFrame called `X` holding the predictive features.\n",
    "\n",
    "Since you want only some columns from the original data, you'll first create a list with the names of the columns you want in `X`.\n",
    "\n",
    "You'll use just the following columns in the list (you can copy and paste the whole list to save some typing, though you'll still need to add quotes):\n",
    "  * LotArea\n",
    "  * YearBuilt\n",
    "  * 1stFlrSF\n",
    "  * 2ndFlrSF\n",
    "  * FullBath\n",
    "  * BedroomAbvGr\n",
    "  * TotRmsAbvGrd\n",
    "\n",
    "After you've created that list of features, use it to create the DataFrame that you'll use to fit the model."
   ]
  },
  {
   "cell_type": "code",
   "execution_count": 5,
   "id": "a896d1ac",
   "metadata": {
    "execution": {
     "iopub.execute_input": "2023-02-24T17:38:20.008387Z",
     "iopub.status.busy": "2023-02-24T17:38:20.007916Z",
     "iopub.status.idle": "2023-02-24T17:38:20.024540Z",
     "shell.execute_reply": "2023-02-24T17:38:20.023324Z"
    },
    "papermill": {
     "duration": 0.026932,
     "end_time": "2023-02-24T17:38:20.027186",
     "exception": false,
     "start_time": "2023-02-24T17:38:20.000254",
     "status": "completed"
    },
    "tags": []
   },
   "outputs": [
    {
     "data": {
      "application/javascript": [
       "parent.postMessage({\"jupyterEvent\": \"custom.exercise_interaction\", \"data\": {\"outcomeType\": 1, \"valueTowardsCompletion\": 0.25, \"interactionType\": 1, \"questionType\": 2, \"questionId\": \"2_SelectPredictionData\", \"learnToolsVersion\": \"0.3.4\", \"failureMessage\": \"\", \"exceptionClass\": \"\", \"trace\": \"\"}}, \"*\")"
      ],
      "text/plain": [
       "<IPython.core.display.Javascript object>"
      ]
     },
     "metadata": {},
     "output_type": "display_data"
    },
    {
     "data": {
      "text/markdown": [
       "<span style=\"color:#33cc33\">Correct</span>"
      ],
      "text/plain": [
       "Correct"
      ]
     },
     "metadata": {},
     "output_type": "display_data"
    }
   ],
   "source": [
    "# Create the list of features below\n",
    "feature_names = ['LotArea','YearBuilt','1stFlrSF','2ndFlrSF','FullBath','BedroomAbvGr','TotRmsAbvGrd']\n",
    "\n",
    "# Select data corresponding to features in feature_names\n",
    "X = home_data[feature_names]\n",
    "\n",
    "\n",
    "# Check your answer\n",
    "step_2.check()"
   ]
  },
  {
   "cell_type": "code",
   "execution_count": 6,
   "id": "3c983b91",
   "metadata": {
    "execution": {
     "iopub.execute_input": "2023-02-24T17:38:20.042638Z",
     "iopub.status.busy": "2023-02-24T17:38:20.041346Z",
     "iopub.status.idle": "2023-02-24T17:38:20.047184Z",
     "shell.execute_reply": "2023-02-24T17:38:20.045759Z"
    },
    "papermill": {
     "duration": 0.01635,
     "end_time": "2023-02-24T17:38:20.049818",
     "exception": false,
     "start_time": "2023-02-24T17:38:20.033468",
     "status": "completed"
    },
    "tags": []
   },
   "outputs": [],
   "source": [
    "# step_2.hint()\n",
    "# step_2.solution()"
   ]
  },
  {
   "cell_type": "markdown",
   "id": "29f5d3ce",
   "metadata": {
    "papermill": {
     "duration": 0.00629,
     "end_time": "2023-02-24T17:38:20.064477",
     "exception": false,
     "start_time": "2023-02-24T17:38:20.058187",
     "status": "completed"
    },
    "tags": []
   },
   "source": [
    "## Review Data\n",
    "Before building a model, take a quick look at **X** to verify it looks sensible"
   ]
  },
  {
   "cell_type": "code",
   "execution_count": 7,
   "id": "d44cdb6b",
   "metadata": {
    "execution": {
     "iopub.execute_input": "2023-02-24T17:38:20.079620Z",
     "iopub.status.busy": "2023-02-24T17:38:20.079118Z",
     "iopub.status.idle": "2023-02-24T17:38:20.126597Z",
     "shell.execute_reply": "2023-02-24T17:38:20.125101Z"
    },
    "papermill": {
     "duration": 0.058124,
     "end_time": "2023-02-24T17:38:20.129405",
     "exception": false,
     "start_time": "2023-02-24T17:38:20.071281",
     "status": "completed"
    },
    "tags": []
   },
   "outputs": [
    {
     "name": "stdout",
     "output_type": "stream",
     "text": [
      "             LotArea    YearBuilt     1stFlrSF     2ndFlrSF     FullBath  \\\n",
      "count    1460.000000  1460.000000  1460.000000  1460.000000  1460.000000   \n",
      "mean    10516.828082  1971.267808  1162.626712   346.992466     1.565068   \n",
      "std      9981.264932    30.202904   386.587738   436.528436     0.550916   \n",
      "min      1300.000000  1872.000000   334.000000     0.000000     0.000000   \n",
      "25%      7553.500000  1954.000000   882.000000     0.000000     1.000000   \n",
      "50%      9478.500000  1973.000000  1087.000000     0.000000     2.000000   \n",
      "75%     11601.500000  2000.000000  1391.250000   728.000000     2.000000   \n",
      "max    215245.000000  2010.000000  4692.000000  2065.000000     3.000000   \n",
      "\n",
      "       BedroomAbvGr  TotRmsAbvGrd  \n",
      "count   1460.000000   1460.000000  \n",
      "mean       2.866438      6.517808  \n",
      "std        0.815778      1.625393  \n",
      "min        0.000000      2.000000  \n",
      "25%        2.000000      5.000000  \n",
      "50%        3.000000      6.000000  \n",
      "75%        3.000000      7.000000  \n",
      "max        8.000000     14.000000  \n",
      "   LotArea  YearBuilt  1stFlrSF  2ndFlrSF  FullBath  BedroomAbvGr  \\\n",
      "0     8450       2003       856       854         2             3   \n",
      "1     9600       1976      1262         0         2             3   \n",
      "2    11250       2001       920       866         2             3   \n",
      "3     9550       1915       961       756         1             3   \n",
      "4    14260       2000      1145      1053         2             4   \n",
      "\n",
      "   TotRmsAbvGrd  \n",
      "0             8  \n",
      "1             6  \n",
      "2             6  \n",
      "3             7  \n",
      "4             9  \n"
     ]
    }
   ],
   "source": [
    "# Review data\n",
    "# print description or statistics from X\n",
    "print(X.describe())\n",
    "\n",
    "# print the top few lines\n",
    "print(X.head())"
   ]
  },
  {
   "cell_type": "markdown",
   "id": "63b4bc24",
   "metadata": {
    "papermill": {
     "duration": 0.00631,
     "end_time": "2023-02-24T17:38:20.142675",
     "exception": false,
     "start_time": "2023-02-24T17:38:20.136365",
     "status": "completed"
    },
    "tags": []
   },
   "source": [
    "## Step 3: Specify and Fit Model\n",
    "Create a `DecisionTreeRegressor` and save it iowa_model. Ensure you've done the relevant import from sklearn to run this command.\n",
    "\n",
    "Then fit the model you just created using the data in `X` and `y` that you saved above."
   ]
  },
  {
   "cell_type": "code",
   "execution_count": 8,
   "id": "16c5b821",
   "metadata": {
    "execution": {
     "iopub.execute_input": "2023-02-24T17:38:20.157581Z",
     "iopub.status.busy": "2023-02-24T17:38:20.157114Z",
     "iopub.status.idle": "2023-02-24T17:38:20.178949Z",
     "shell.execute_reply": "2023-02-24T17:38:20.177450Z"
    },
    "papermill": {
     "duration": 0.032346,
     "end_time": "2023-02-24T17:38:20.181562",
     "exception": false,
     "start_time": "2023-02-24T17:38:20.149216",
     "status": "completed"
    },
    "tags": []
   },
   "outputs": [
    {
     "data": {
      "application/javascript": [
       "parent.postMessage({\"jupyterEvent\": \"custom.exercise_interaction\", \"data\": {\"outcomeType\": 1, \"valueTowardsCompletion\": 0.25, \"interactionType\": 1, \"questionType\": 2, \"questionId\": \"3_CreateModel\", \"learnToolsVersion\": \"0.3.4\", \"failureMessage\": \"\", \"exceptionClass\": \"\", \"trace\": \"\"}}, \"*\")"
      ],
      "text/plain": [
       "<IPython.core.display.Javascript object>"
      ]
     },
     "metadata": {},
     "output_type": "display_data"
    },
    {
     "data": {
      "text/markdown": [
       "<span style=\"color:#33cc33\">Correct</span>"
      ],
      "text/plain": [
       "Correct"
      ]
     },
     "metadata": {},
     "output_type": "display_data"
    }
   ],
   "source": [
    "from sklearn.tree import DecisionTreeRegressor\n",
    "#specify the model. \n",
    "#For model reproducibility, set a numeric value for random_state when specifying the model\n",
    "iowa_model = DecisionTreeRegressor(random_state=1)\n",
    "\n",
    "# Fit the model\n",
    "iowa_model.fit(X,y)\n",
    "\n",
    "# Check your answer\n",
    "step_3.check()"
   ]
  },
  {
   "cell_type": "code",
   "execution_count": 9,
   "id": "30f5597b",
   "metadata": {
    "execution": {
     "iopub.execute_input": "2023-02-24T17:38:20.197302Z",
     "iopub.status.busy": "2023-02-24T17:38:20.196576Z",
     "iopub.status.idle": "2023-02-24T17:38:20.202058Z",
     "shell.execute_reply": "2023-02-24T17:38:20.200623Z"
    },
    "papermill": {
     "duration": 0.016249,
     "end_time": "2023-02-24T17:38:20.204497",
     "exception": false,
     "start_time": "2023-02-24T17:38:20.188248",
     "status": "completed"
    },
    "tags": []
   },
   "outputs": [],
   "source": [
    "# step_3.hint()\n",
    "# step_3.solution()"
   ]
  },
  {
   "cell_type": "markdown",
   "id": "6989df91",
   "metadata": {
    "papermill": {
     "duration": 0.006223,
     "end_time": "2023-02-24T17:38:20.217452",
     "exception": false,
     "start_time": "2023-02-24T17:38:20.211229",
     "status": "completed"
    },
    "tags": []
   },
   "source": [
    "## Step 4: Make Predictions\n",
    "Make predictions with the model's `predict` command using `X` as the data. Save the results to a variable called `predictions`."
   ]
  },
  {
   "cell_type": "code",
   "execution_count": 10,
   "id": "2cf63d9e",
   "metadata": {
    "execution": {
     "iopub.execute_input": "2023-02-24T17:38:20.232889Z",
     "iopub.status.busy": "2023-02-24T17:38:20.232070Z",
     "iopub.status.idle": "2023-02-24T17:38:20.249766Z",
     "shell.execute_reply": "2023-02-24T17:38:20.247705Z"
    },
    "papermill": {
     "duration": 0.029056,
     "end_time": "2023-02-24T17:38:20.253096",
     "exception": false,
     "start_time": "2023-02-24T17:38:20.224040",
     "status": "completed"
    },
    "tags": []
   },
   "outputs": [
    {
     "name": "stdout",
     "output_type": "stream",
     "text": [
      "[208500. 181500. 223500. ... 266500. 142125. 147500.]\n"
     ]
    },
    {
     "data": {
      "application/javascript": [
       "parent.postMessage({\"jupyterEvent\": \"custom.exercise_interaction\", \"data\": {\"outcomeType\": 1, \"valueTowardsCompletion\": 0.25, \"interactionType\": 1, \"questionType\": 2, \"questionId\": \"4_MakePredictions\", \"learnToolsVersion\": \"0.3.4\", \"failureMessage\": \"\", \"exceptionClass\": \"\", \"trace\": \"\"}}, \"*\")"
      ],
      "text/plain": [
       "<IPython.core.display.Javascript object>"
      ]
     },
     "metadata": {},
     "output_type": "display_data"
    },
    {
     "data": {
      "text/markdown": [
       "<span style=\"color:#33cc33\">Correct</span>"
      ],
      "text/plain": [
       "Correct"
      ]
     },
     "metadata": {},
     "output_type": "display_data"
    }
   ],
   "source": [
    "predictions = iowa_model.predict(X)\n",
    "print(predictions)\n",
    "\n",
    "# Check your answer\n",
    "step_4.check()"
   ]
  },
  {
   "cell_type": "code",
   "execution_count": 11,
   "id": "707fe9c0",
   "metadata": {
    "execution": {
     "iopub.execute_input": "2023-02-24T17:38:20.270387Z",
     "iopub.status.busy": "2023-02-24T17:38:20.269983Z",
     "iopub.status.idle": "2023-02-24T17:38:20.274804Z",
     "shell.execute_reply": "2023-02-24T17:38:20.273494Z"
    },
    "papermill": {
     "duration": 0.016404,
     "end_time": "2023-02-24T17:38:20.277298",
     "exception": false,
     "start_time": "2023-02-24T17:38:20.260894",
     "status": "completed"
    },
    "tags": []
   },
   "outputs": [],
   "source": [
    "# step_4.hint()\n",
    "# step_4.solution()"
   ]
  },
  {
   "cell_type": "markdown",
   "id": "6417f4ca",
   "metadata": {
    "papermill": {
     "duration": 0.00646,
     "end_time": "2023-02-24T17:38:20.290621",
     "exception": false,
     "start_time": "2023-02-24T17:38:20.284161",
     "status": "completed"
    },
    "tags": []
   },
   "source": [
    "## Think About Your Results\n",
    "\n",
    "Use the `head` method to compare the top few predictions to the actual home values (in `y`) for those same homes. Anything surprising?\n"
   ]
  },
  {
   "cell_type": "code",
   "execution_count": 12,
   "id": "914eae23",
   "metadata": {
    "execution": {
     "iopub.execute_input": "2023-02-24T17:38:20.307235Z",
     "iopub.status.busy": "2023-02-24T17:38:20.306497Z",
     "iopub.status.idle": "2023-02-24T17:38:20.316385Z",
     "shell.execute_reply": "2023-02-24T17:38:20.314837Z"
    },
    "papermill": {
     "duration": 0.023042,
     "end_time": "2023-02-24T17:38:20.320573",
     "exception": false,
     "start_time": "2023-02-24T17:38:20.297531",
     "status": "completed"
    },
    "tags": []
   },
   "outputs": [
    {
     "name": "stdout",
     "output_type": "stream",
     "text": [
      "[208500. 181500. 223500. 140000. 250000.]\n",
      "0    208500\n",
      "1    181500\n",
      "2    223500\n",
      "3    140000\n",
      "4    250000\n",
      "Name: SalePrice, dtype: int64\n"
     ]
    }
   ],
   "source": [
    "# You can write code in this cell\n",
    "prediction=iowa_model.predict(X.head())\n",
    "print(prediction)\n",
    "answ=y.head()\n",
    "print(answ)\n"
   ]
  },
  {
   "cell_type": "markdown",
   "id": "513e8b06",
   "metadata": {
    "papermill": {
     "duration": 0.00659,
     "end_time": "2023-02-24T17:38:20.334860",
     "exception": false,
     "start_time": "2023-02-24T17:38:20.328270",
     "status": "completed"
    },
    "tags": []
   },
   "source": [
    "It's natural to ask how accurate the model's predictions will be and how you can improve that. That will be you're next step.\n",
    "\n",
    "# Keep Going\n",
    "\n",
    "You are ready for **[Model Validation](https://www.kaggle.com/dansbecker/model-validation).**\n"
   ]
  },
  {
   "cell_type": "markdown",
   "id": "0c17d9d3",
   "metadata": {
    "papermill": {
     "duration": 0.006544,
     "end_time": "2023-02-24T17:38:20.348769",
     "exception": false,
     "start_time": "2023-02-24T17:38:20.342225",
     "status": "completed"
    },
    "tags": []
   },
   "source": [
    "---\n",
    "\n",
    "\n",
    "\n",
    "\n",
    "*Have questions or comments? Visit the [course discussion forum](https://www.kaggle.com/learn/intro-to-machine-learning/discussion) to chat with other learners.*"
   ]
  }
 ],
 "metadata": {
  "kernelspec": {
   "display_name": "Python 3",
   "language": "python",
   "name": "python3"
  },
  "language_info": {
   "codemirror_mode": {
    "name": "ipython",
    "version": 3
   },
   "file_extension": ".py",
   "mimetype": "text/x-python",
   "name": "python",
   "nbconvert_exporter": "python",
   "pygments_lexer": "ipython3",
   "version": "3.7.12"
  },
  "papermill": {
   "default_parameters": {},
   "duration": 14.899202,
   "end_time": "2023-02-24T17:38:21.179411",
   "environment_variables": {},
   "exception": null,
   "input_path": "__notebook__.ipynb",
   "output_path": "__notebook__.ipynb",
   "parameters": {},
   "start_time": "2023-02-24T17:38:06.280209",
   "version": "2.4.0"
  }
 },
 "nbformat": 4,
 "nbformat_minor": 5
}
