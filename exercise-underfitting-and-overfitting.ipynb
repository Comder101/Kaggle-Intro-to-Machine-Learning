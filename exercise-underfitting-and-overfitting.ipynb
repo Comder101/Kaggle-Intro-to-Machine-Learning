{
 "cells": [
  {
   "cell_type": "markdown",
   "id": "ebdc6238",
   "metadata": {
    "papermill": {
     "duration": 0.004318,
     "end_time": "2023-02-26T11:59:03.650673",
     "exception": false,
     "start_time": "2023-02-26T11:59:03.646355",
     "status": "completed"
    },
    "tags": []
   },
   "source": [
    "**This notebook is an exercise in the [Introduction to Machine Learning](https://www.kaggle.com/learn/intro-to-machine-learning) course.  You can reference the tutorial at [this link](https://www.kaggle.com/dansbecker/underfitting-and-overfitting).**\n",
    "\n",
    "---\n"
   ]
  },
  {
   "cell_type": "markdown",
   "id": "5ef92827",
   "metadata": {
    "papermill": {
     "duration": 0.003122,
     "end_time": "2023-02-26T11:59:03.657417",
     "exception": false,
     "start_time": "2023-02-26T11:59:03.654295",
     "status": "completed"
    },
    "tags": []
   },
   "source": [
    "## Recap\n",
    "You've built your first model, and now it's time to optimize the size of the tree to make better predictions. Run this cell to set up your coding environment where the previous step left off."
   ]
  },
  {
   "cell_type": "code",
   "execution_count": 1,
   "id": "dfe35d39",
   "metadata": {
    "execution": {
     "iopub.execute_input": "2023-02-26T11:59:03.666790Z",
     "iopub.status.busy": "2023-02-26T11:59:03.665721Z",
     "iopub.status.idle": "2023-02-26T11:59:05.220762Z",
     "shell.execute_reply": "2023-02-26T11:59:05.219567Z"
    },
    "papermill": {
     "duration": 1.56274,
     "end_time": "2023-02-26T11:59:05.223619",
     "exception": false,
     "start_time": "2023-02-26T11:59:03.660879",
     "status": "completed"
    },
    "tags": []
   },
   "outputs": [
    {
     "name": "stdout",
     "output_type": "stream",
     "text": [
      "Validation MAE: 29,653\n",
      "\n",
      "Setup complete\n"
     ]
    }
   ],
   "source": [
    "# Code you have previously used to load data\n",
    "import pandas as pd\n",
    "from sklearn.metrics import mean_absolute_error\n",
    "from sklearn.model_selection import train_test_split\n",
    "from sklearn.tree import DecisionTreeRegressor\n",
    "\n",
    "\n",
    "# Path of the file to read\n",
    "iowa_file_path = '../input/home-data-for-ml-course/train.csv'\n",
    "\n",
    "home_data = pd.read_csv(iowa_file_path)\n",
    "# Create target object and call it y\n",
    "y = home_data.SalePrice\n",
    "# Create X\n",
    "features = ['LotArea', 'YearBuilt', '1stFlrSF', '2ndFlrSF', 'FullBath', 'BedroomAbvGr', 'TotRmsAbvGrd']\n",
    "X = home_data[features]\n",
    "\n",
    "# Split into validation and training data\n",
    "train_X, val_X, train_y, val_y = train_test_split(X, y, random_state=1)\n",
    "\n",
    "# Specify Model\n",
    "iowa_model = DecisionTreeRegressor(random_state=1)\n",
    "# Fit Model\n",
    "iowa_model.fit(train_X, train_y)\n",
    "\n",
    "# Make validation predictions and calculate mean absolute error\n",
    "val_predictions = iowa_model.predict(val_X)\n",
    "val_mae = mean_absolute_error(val_predictions, val_y)\n",
    "print(\"Validation MAE: {:,.0f}\".format(val_mae))\n",
    "\n",
    "# Set up code checking\n",
    "from learntools.core import binder\n",
    "binder.bind(globals())\n",
    "from learntools.machine_learning.ex5 import *\n",
    "print(\"\\nSetup complete\")"
   ]
  },
  {
   "cell_type": "markdown",
   "id": "c87fae88",
   "metadata": {
    "papermill": {
     "duration": 0.003057,
     "end_time": "2023-02-26T11:59:05.230391",
     "exception": false,
     "start_time": "2023-02-26T11:59:05.227334",
     "status": "completed"
    },
    "tags": []
   },
   "source": [
    "# Exercises\n",
    "You could write the function `get_mae` yourself. For now, we'll supply it. This is the same function you read about in the previous lesson. Just run the cell below."
   ]
  },
  {
   "cell_type": "code",
   "execution_count": 2,
   "id": "be0c8eac",
   "metadata": {
    "execution": {
     "iopub.execute_input": "2023-02-26T11:59:05.240128Z",
     "iopub.status.busy": "2023-02-26T11:59:05.239700Z",
     "iopub.status.idle": "2023-02-26T11:59:05.246296Z",
     "shell.execute_reply": "2023-02-26T11:59:05.244775Z"
    },
    "papermill": {
     "duration": 0.014899,
     "end_time": "2023-02-26T11:59:05.248592",
     "exception": false,
     "start_time": "2023-02-26T11:59:05.233693",
     "status": "completed"
    },
    "tags": []
   },
   "outputs": [],
   "source": [
    "def get_mae(max_leaf_nodes, train_X, val_X, train_y, val_y):\n",
    "    model = DecisionTreeRegressor(max_leaf_nodes=max_leaf_nodes, random_state=0)\n",
    "    model.fit(train_X, train_y)\n",
    "    preds_val = model.predict(val_X)\n",
    "    mae = mean_absolute_error(val_y, preds_val)\n",
    "    return(mae)"
   ]
  },
  {
   "cell_type": "markdown",
   "id": "70dca264",
   "metadata": {
    "papermill": {
     "duration": 0.003408,
     "end_time": "2023-02-26T11:59:05.255825",
     "exception": false,
     "start_time": "2023-02-26T11:59:05.252417",
     "status": "completed"
    },
    "tags": []
   },
   "source": [
    "## Step 1: Compare Different Tree Sizes\n",
    "Write a loop that tries the following values for *max_leaf_nodes* from a set of possible values.\n",
    "\n",
    "Call the *get_mae* function on each value of max_leaf_nodes. Store the output in some way that allows you to select the value of `max_leaf_nodes` that gives the most accurate model on your data."
   ]
  },
  {
   "cell_type": "code",
   "execution_count": 3,
   "id": "e84dd196",
   "metadata": {
    "execution": {
     "iopub.execute_input": "2023-02-26T11:59:05.266800Z",
     "iopub.status.busy": "2023-02-26T11:59:05.265105Z",
     "iopub.status.idle": "2023-02-26T11:59:05.346797Z",
     "shell.execute_reply": "2023-02-26T11:59:05.345604Z"
    },
    "papermill": {
     "duration": 0.088958,
     "end_time": "2023-02-26T11:59:05.348908",
     "exception": false,
     "start_time": "2023-02-26T11:59:05.259950",
     "status": "completed"
    },
    "tags": []
   },
   "outputs": [
    {
     "name": "stdout",
     "output_type": "stream",
     "text": [
      "100\n"
     ]
    },
    {
     "data": {
      "application/javascript": [
       "parent.postMessage({\"jupyterEvent\": \"custom.exercise_interaction\", \"data\": {\"outcomeType\": 1, \"valueTowardsCompletion\": 0.5, \"interactionType\": 1, \"questionType\": 1, \"questionId\": \"1_BestTreeSize\", \"learnToolsVersion\": \"0.3.4\", \"failureMessage\": \"\", \"exceptionClass\": \"\", \"trace\": \"\"}}, \"*\")"
      ],
      "text/plain": [
       "<IPython.core.display.Javascript object>"
      ]
     },
     "metadata": {},
     "output_type": "display_data"
    },
    {
     "data": {
      "text/markdown": [
       "<span style=\"color:#33cc33\">Correct</span>"
      ],
      "text/plain": [
       "Correct"
      ]
     },
     "metadata": {},
     "output_type": "display_data"
    }
   ],
   "source": [
    "candidate_max_leaf_nodes = [5, 25, 50, 100, 250, 500]\n",
    "# Write loop to find the ideal tree size from candidate_max_leaf_nodes\n",
    "values=[]\n",
    "\n",
    "# Store the best value of max_leaf_nodes (it will be either 5, 25, 50, 100, 250 or 500)\n",
    "\n",
    "for l in candidate_max_leaf_nodes:\n",
    "    values.append(get_mae(l,train_X,val_X,train_y,val_y))\n",
    "    if get_mae(l,train_X,val_X,train_y,val_y)==min(values):\n",
    "        best_tree_size=l\n",
    "    \n",
    "print(best_tree_size)\n",
    "    \n",
    "  \n",
    "# Check your answer\n",
    "step_1.check()"
   ]
  },
  {
   "cell_type": "code",
   "execution_count": null,
   "id": "810ba9e6",
   "metadata": {
    "papermill": {
     "duration": 0.003864,
     "end_time": "2023-02-26T11:59:05.356534",
     "exception": false,
     "start_time": "2023-02-26T11:59:05.352670",
     "status": "completed"
    },
    "tags": []
   },
   "outputs": [],
   "source": []
  },
  {
   "cell_type": "code",
   "execution_count": 4,
   "id": "661b8920",
   "metadata": {
    "execution": {
     "iopub.execute_input": "2023-02-26T11:59:05.366689Z",
     "iopub.status.busy": "2023-02-26T11:59:05.366216Z",
     "iopub.status.idle": "2023-02-26T11:59:05.370446Z",
     "shell.execute_reply": "2023-02-26T11:59:05.369524Z"
    },
    "papermill": {
     "duration": 0.01157,
     "end_time": "2023-02-26T11:59:05.372367",
     "exception": false,
     "start_time": "2023-02-26T11:59:05.360797",
     "status": "completed"
    },
    "tags": []
   },
   "outputs": [],
   "source": [
    "# The lines below will show you a hint or the solution.\n",
    "# step_1.hint() \n",
    "# step_1.solution()"
   ]
  },
  {
   "cell_type": "markdown",
   "id": "19e5e423",
   "metadata": {
    "papermill": {
     "duration": 0.005006,
     "end_time": "2023-02-26T11:59:05.382030",
     "exception": false,
     "start_time": "2023-02-26T11:59:05.377024",
     "status": "completed"
    },
    "tags": []
   },
   "source": [
    "## Step 2: Fit Model Using All Data\n",
    "You know the best tree size. If you were going to deploy this model in practice, you would make it even more accurate by using all of the data and keeping that tree size.  That is, you don't need to hold out the validation data now that you've made all your modeling decisions."
   ]
  },
  {
   "cell_type": "code",
   "execution_count": 5,
   "id": "c3d086fc",
   "metadata": {
    "execution": {
     "iopub.execute_input": "2023-02-26T11:59:05.393190Z",
     "iopub.status.busy": "2023-02-26T11:59:05.392575Z",
     "iopub.status.idle": "2023-02-26T11:59:05.412162Z",
     "shell.execute_reply": "2023-02-26T11:59:05.410074Z"
    },
    "papermill": {
     "duration": 0.0284,
     "end_time": "2023-02-26T11:59:05.414654",
     "exception": false,
     "start_time": "2023-02-26T11:59:05.386254",
     "status": "completed"
    },
    "tags": []
   },
   "outputs": [
    {
     "data": {
      "application/javascript": [
       "parent.postMessage({\"jupyterEvent\": \"custom.exercise_interaction\", \"data\": {\"outcomeType\": 1, \"valueTowardsCompletion\": 0.5, \"interactionType\": 1, \"questionType\": 2, \"questionId\": \"2_FitModelWithAllData\", \"learnToolsVersion\": \"0.3.4\", \"failureMessage\": \"\", \"exceptionClass\": \"\", \"trace\": \"\"}}, \"*\")"
      ],
      "text/plain": [
       "<IPython.core.display.Javascript object>"
      ]
     },
     "metadata": {},
     "output_type": "display_data"
    },
    {
     "data": {
      "text/markdown": [
       "<span style=\"color:#33cc33\">Correct</span>"
      ],
      "text/plain": [
       "Correct"
      ]
     },
     "metadata": {},
     "output_type": "display_data"
    }
   ],
   "source": [
    "# Fill in argument to make optimal size and uncomment\n",
    "final_model = DecisionTreeRegressor(max_leaf_nodes=best_tree_size,random_state=1)\n",
    "\n",
    "# fit the final model and uncomment the next two lines\n",
    "final_model.fit(X,y)\n",
    "\n",
    "# Check your answer\n",
    "step_2.check()"
   ]
  },
  {
   "cell_type": "code",
   "execution_count": 6,
   "id": "632c6dc7",
   "metadata": {
    "execution": {
     "iopub.execute_input": "2023-02-26T11:59:05.424957Z",
     "iopub.status.busy": "2023-02-26T11:59:05.424529Z",
     "iopub.status.idle": "2023-02-26T11:59:05.430554Z",
     "shell.execute_reply": "2023-02-26T11:59:05.428961Z"
    },
    "papermill": {
     "duration": 0.014737,
     "end_time": "2023-02-26T11:59:05.433673",
     "exception": false,
     "start_time": "2023-02-26T11:59:05.418936",
     "status": "completed"
    },
    "tags": []
   },
   "outputs": [],
   "source": [
    "# step_2.hint()\n",
    "# step_2.solution()"
   ]
  },
  {
   "cell_type": "markdown",
   "id": "df849633",
   "metadata": {
    "papermill": {
     "duration": 0.004732,
     "end_time": "2023-02-26T11:59:05.443331",
     "exception": false,
     "start_time": "2023-02-26T11:59:05.438599",
     "status": "completed"
    },
    "tags": []
   },
   "source": [
    "You've tuned this model and improved your results. But we are still using Decision Tree models, which are not very sophisticated by modern machine learning standards. In the next step you will learn to use Random Forests to improve your models even more.\n",
    "\n",
    "# Keep Going\n",
    "\n",
    "You are ready for **[Random Forests](https://www.kaggle.com/dansbecker/random-forests).**\n"
   ]
  },
  {
   "cell_type": "markdown",
   "id": "4a8dc6c7",
   "metadata": {
    "papermill": {
     "duration": 0.004203,
     "end_time": "2023-02-26T11:59:05.451764",
     "exception": false,
     "start_time": "2023-02-26T11:59:05.447561",
     "status": "completed"
    },
    "tags": []
   },
   "source": [
    "---\n",
    "\n",
    "\n",
    "\n",
    "\n",
    "*Have questions or comments? Visit the [course discussion forum](https://www.kaggle.com/learn/intro-to-machine-learning/discussion) to chat with other learners.*"
   ]
  }
 ],
 "metadata": {
  "kernelspec": {
   "display_name": "Python 3",
   "language": "python",
   "name": "python3"
  },
  "language_info": {
   "codemirror_mode": {
    "name": "ipython",
    "version": 3
   },
   "file_extension": ".py",
   "mimetype": "text/x-python",
   "name": "python",
   "nbconvert_exporter": "python",
   "pygments_lexer": "ipython3",
   "version": "3.7.12"
  },
  "papermill": {
   "default_parameters": {},
   "duration": 14.036745,
   "end_time": "2023-02-26T11:59:06.382174",
   "environment_variables": {},
   "exception": null,
   "input_path": "__notebook__.ipynb",
   "output_path": "__notebook__.ipynb",
   "parameters": {},
   "start_time": "2023-02-26T11:58:52.345429",
   "version": "2.4.0"
  }
 },
 "nbformat": 4,
 "nbformat_minor": 5
}
