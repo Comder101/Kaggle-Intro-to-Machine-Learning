{
 "cells": [
  {
   "cell_type": "markdown",
   "id": "7f7503df",
   "metadata": {
    "papermill": {
     "duration": 0.005943,
     "end_time": "2023-02-25T04:01:12.156339",
     "exception": false,
     "start_time": "2023-02-25T04:01:12.150396",
     "status": "completed"
    },
    "tags": []
   },
   "source": [
    "**This notebook is an exercise in the [Introduction to Machine Learning](https://www.kaggle.com/learn/intro-to-machine-learning) course.  You can reference the tutorial at [this link](https://www.kaggle.com/dansbecker/model-validation).**\n",
    "\n",
    "---\n"
   ]
  },
  {
   "cell_type": "markdown",
   "id": "cf85cefe",
   "metadata": {
    "papermill": {
     "duration": 0.004367,
     "end_time": "2023-02-25T04:01:12.165610",
     "exception": false,
     "start_time": "2023-02-25T04:01:12.161243",
     "status": "completed"
    },
    "tags": []
   },
   "source": [
    "## Recap\n",
    "You've built a model. In this exercise you will test how good your model is.\n",
    "\n",
    "Run the cell below to set up your coding environment where the previous exercise left off."
   ]
  },
  {
   "cell_type": "code",
   "execution_count": 1,
   "id": "0f2b476c",
   "metadata": {
    "execution": {
     "iopub.execute_input": "2023-02-25T04:01:12.176868Z",
     "iopub.status.busy": "2023-02-25T04:01:12.176369Z",
     "iopub.status.idle": "2023-02-25T04:01:13.477996Z",
     "shell.execute_reply": "2023-02-25T04:01:13.476771Z"
    },
    "papermill": {
     "duration": 1.310532,
     "end_time": "2023-02-25T04:01:13.480783",
     "exception": false,
     "start_time": "2023-02-25T04:01:12.170251",
     "status": "completed"
    },
    "tags": []
   },
   "outputs": [
    {
     "name": "stdout",
     "output_type": "stream",
     "text": [
      "First in-sample predictions: [208500. 181500. 223500. 140000. 250000.]\n",
      "Actual target values for those homes: [208500, 181500, 223500, 140000, 250000]\n",
      "Setup Complete\n"
     ]
    }
   ],
   "source": [
    "# Code you have previously used to load data\n",
    "import pandas as pd\n",
    "from sklearn.tree import DecisionTreeRegressor\n",
    "\n",
    "# Path of the file to read\n",
    "iowa_file_path = '../input/home-data-for-ml-course/train.csv'\n",
    "\n",
    "home_data = pd.read_csv(iowa_file_path)\n",
    "y = home_data.SalePrice\n",
    "feature_columns = ['LotArea', 'YearBuilt', '1stFlrSF', '2ndFlrSF', 'FullBath', 'BedroomAbvGr', 'TotRmsAbvGrd']\n",
    "X = home_data[feature_columns]\n",
    "\n",
    "# Specify Model\n",
    "iowa_model = DecisionTreeRegressor()\n",
    "# Fit Model\n",
    "iowa_model.fit(X, y)\n",
    "\n",
    "print(\"First in-sample predictions:\", iowa_model.predict(X.head()))\n",
    "print(\"Actual target values for those homes:\", y.head().tolist())\n",
    "\n",
    "# Set up code checking\n",
    "from learntools.core import binder\n",
    "binder.bind(globals())\n",
    "from learntools.machine_learning.ex4 import *\n",
    "print(\"Setup Complete\")"
   ]
  },
  {
   "cell_type": "markdown",
   "id": "8fb20e69",
   "metadata": {
    "papermill": {
     "duration": 0.004546,
     "end_time": "2023-02-25T04:01:13.490349",
     "exception": false,
     "start_time": "2023-02-25T04:01:13.485803",
     "status": "completed"
    },
    "tags": []
   },
   "source": [
    "# Exercises\n",
    "\n",
    "## Step 1: Split Your Data\n",
    "Use the `train_test_split` function to split up your data.\n",
    "\n",
    "Give it the argument `random_state=1` so the `check` functions know what to expect when verifying your code.\n",
    "\n",
    "Recall, your features are loaded in the DataFrame **X** and your target is loaded in **y**.\n"
   ]
  },
  {
   "cell_type": "code",
   "execution_count": 2,
   "id": "f0203321",
   "metadata": {
    "execution": {
     "iopub.execute_input": "2023-02-25T04:01:13.501501Z",
     "iopub.status.busy": "2023-02-25T04:01:13.501067Z",
     "iopub.status.idle": "2023-02-25T04:01:13.516161Z",
     "shell.execute_reply": "2023-02-25T04:01:13.515069Z"
    },
    "papermill": {
     "duration": 0.023247,
     "end_time": "2023-02-25T04:01:13.518268",
     "exception": false,
     "start_time": "2023-02-25T04:01:13.495021",
     "status": "completed"
    },
    "tags": []
   },
   "outputs": [
    {
     "data": {
      "application/javascript": [
       "parent.postMessage({\"jupyterEvent\": \"custom.exercise_interaction\", \"data\": {\"outcomeType\": 1, \"valueTowardsCompletion\": 0.25, \"interactionType\": 1, \"questionType\": 2, \"questionId\": \"1_SplitData\", \"learnToolsVersion\": \"0.3.4\", \"failureMessage\": \"\", \"exceptionClass\": \"\", \"trace\": \"\"}}, \"*\")"
      ],
      "text/plain": [
       "<IPython.core.display.Javascript object>"
      ]
     },
     "metadata": {},
     "output_type": "display_data"
    },
    {
     "data": {
      "text/markdown": [
       "<span style=\"color:#33cc33\">Correct</span>"
      ],
      "text/plain": [
       "Correct"
      ]
     },
     "metadata": {},
     "output_type": "display_data"
    }
   ],
   "source": [
    "# Import the train_test_split function and uncomment\n",
    "from sklearn.model_selection import train_test_split\n",
    "\n",
    "# fill in and uncomment\n",
    "train_X, val_X, train_y, val_y = train_test_split(X,y,random_state=1)\n",
    "\n",
    "# Check your answer\n",
    "step_1.check()"
   ]
  },
  {
   "cell_type": "code",
   "execution_count": 3,
   "id": "a8c32ebb",
   "metadata": {
    "execution": {
     "iopub.execute_input": "2023-02-25T04:01:13.530899Z",
     "iopub.status.busy": "2023-02-25T04:01:13.529771Z",
     "iopub.status.idle": "2023-02-25T04:01:13.534845Z",
     "shell.execute_reply": "2023-02-25T04:01:13.533548Z"
    },
    "papermill": {
     "duration": 0.014012,
     "end_time": "2023-02-25T04:01:13.537349",
     "exception": false,
     "start_time": "2023-02-25T04:01:13.523337",
     "status": "completed"
    },
    "tags": []
   },
   "outputs": [],
   "source": [
    "# The lines below will show you a hint or the solution.\n",
    "# step_1.hint() \n",
    "# step_1.solution()\n"
   ]
  },
  {
   "cell_type": "markdown",
   "id": "6da99733",
   "metadata": {
    "papermill": {
     "duration": 0.004714,
     "end_time": "2023-02-25T04:01:13.547218",
     "exception": false,
     "start_time": "2023-02-25T04:01:13.542504",
     "status": "completed"
    },
    "tags": []
   },
   "source": [
    "## Step 2: Specify and Fit the Model\n",
    "\n",
    "Create a `DecisionTreeRegressor` model and fit it to the relevant data.\n",
    "Set `random_state` to 1 again when creating the model."
   ]
  },
  {
   "cell_type": "code",
   "execution_count": 4,
   "id": "3600dd22",
   "metadata": {
    "execution": {
     "iopub.execute_input": "2023-02-25T04:01:13.560193Z",
     "iopub.status.busy": "2023-02-25T04:01:13.558826Z",
     "iopub.status.idle": "2023-02-25T04:01:13.589020Z",
     "shell.execute_reply": "2023-02-25T04:01:13.587474Z"
    },
    "papermill": {
     "duration": 0.040011,
     "end_time": "2023-02-25T04:01:13.592173",
     "exception": false,
     "start_time": "2023-02-25T04:01:13.552162",
     "status": "completed"
    },
    "tags": []
   },
   "outputs": [
    {
     "name": "stdout",
     "output_type": "stream",
     "text": [
      "[186500. 184000. 130000.  92000. 164500. 220000. 335000. 144152. 215000.\n",
      " 262000.]\n",
      "[186500. 184000. 130000.  92000. 164500. 220000. 335000. 144152. 215000.\n",
      " 262000.]\n"
     ]
    },
    {
     "data": {
      "application/javascript": [
       "parent.postMessage({\"jupyterEvent\": \"custom.exercise_interaction\", \"data\": {\"outcomeType\": 1, \"valueTowardsCompletion\": 0.25, \"interactionType\": 1, \"questionType\": 2, \"questionId\": \"2_FitModelWithTrain\", \"learnToolsVersion\": \"0.3.4\", \"failureMessage\": \"\", \"exceptionClass\": \"\", \"trace\": \"\"}}, \"*\")"
      ],
      "text/plain": [
       "<IPython.core.display.Javascript object>"
      ]
     },
     "metadata": {},
     "output_type": "display_data"
    },
    {
     "data": {
      "text/markdown": [
       "<span style=\"color:#33cc33\">Correct</span>"
      ],
      "text/plain": [
       "Correct"
      ]
     },
     "metadata": {},
     "output_type": "display_data"
    }
   ],
   "source": [
    "# You imported DecisionTreeRegressor in your last exercise\n",
    "# and that code has been copied to the setup code above. So, no need to\n",
    "# import it again\n",
    "\n",
    "# Specify the model\n",
    "iowa_model = DecisionTreeRegressor(random_state=1)\n",
    "\n",
    "# Fit iowa_model with the training data.\n",
    "iowa_model.fit(train_X,train_y)\n",
    "\n",
    "# Check your answer\n",
    "step_2.check()"
   ]
  },
  {
   "cell_type": "code",
   "execution_count": 5,
   "id": "03fae999",
   "metadata": {
    "execution": {
     "iopub.execute_input": "2023-02-25T04:01:13.605910Z",
     "iopub.status.busy": "2023-02-25T04:01:13.605043Z",
     "iopub.status.idle": "2023-02-25T04:01:13.610138Z",
     "shell.execute_reply": "2023-02-25T04:01:13.609207Z"
    },
    "papermill": {
     "duration": 0.01465,
     "end_time": "2023-02-25T04:01:13.612627",
     "exception": false,
     "start_time": "2023-02-25T04:01:13.597977",
     "status": "completed"
    },
    "tags": []
   },
   "outputs": [],
   "source": [
    "# step_2.hint()\n",
    "# step_2.solution()"
   ]
  },
  {
   "cell_type": "code",
   "execution_count": null,
   "id": "cd89a5c9",
   "metadata": {
    "papermill": {
     "duration": 0.005055,
     "end_time": "2023-02-25T04:01:13.623544",
     "exception": false,
     "start_time": "2023-02-25T04:01:13.618489",
     "status": "completed"
    },
    "tags": []
   },
   "outputs": [],
   "source": []
  },
  {
   "cell_type": "markdown",
   "id": "98998dad",
   "metadata": {
    "papermill": {
     "duration": 0.004945,
     "end_time": "2023-02-25T04:01:13.633748",
     "exception": false,
     "start_time": "2023-02-25T04:01:13.628803",
     "status": "completed"
    },
    "tags": []
   },
   "source": [
    "## Step 3: Make Predictions with Validation data\n"
   ]
  },
  {
   "cell_type": "code",
   "execution_count": 6,
   "id": "fb507731",
   "metadata": {
    "execution": {
     "iopub.execute_input": "2023-02-25T04:01:13.646882Z",
     "iopub.status.busy": "2023-02-25T04:01:13.646018Z",
     "iopub.status.idle": "2023-02-25T04:01:13.658769Z",
     "shell.execute_reply": "2023-02-25T04:01:13.657642Z"
    },
    "papermill": {
     "duration": 0.022145,
     "end_time": "2023-02-25T04:01:13.661181",
     "exception": false,
     "start_time": "2023-02-25T04:01:13.639036",
     "status": "completed"
    },
    "tags": []
   },
   "outputs": [
    {
     "data": {
      "application/javascript": [
       "parent.postMessage({\"jupyterEvent\": \"custom.exercise_interaction\", \"data\": {\"outcomeType\": 1, \"valueTowardsCompletion\": 0.25, \"interactionType\": 1, \"questionType\": 2, \"questionId\": \"3_ValPreds\", \"learnToolsVersion\": \"0.3.4\", \"failureMessage\": \"\", \"exceptionClass\": \"\", \"trace\": \"\"}}, \"*\")"
      ],
      "text/plain": [
       "<IPython.core.display.Javascript object>"
      ]
     },
     "metadata": {},
     "output_type": "display_data"
    },
    {
     "data": {
      "text/markdown": [
       "<span style=\"color:#33cc33\">Correct</span>"
      ],
      "text/plain": [
       "Correct"
      ]
     },
     "metadata": {},
     "output_type": "display_data"
    }
   ],
   "source": [
    "# Predict with all validation observations\n",
    "val_predictions = iowa_model.predict(val_X)\n",
    "\n",
    "# Check your answer\n",
    "step_3.check()"
   ]
  },
  {
   "cell_type": "code",
   "execution_count": 7,
   "id": "3aa95fb4",
   "metadata": {
    "execution": {
     "iopub.execute_input": "2023-02-25T04:01:13.674217Z",
     "iopub.status.busy": "2023-02-25T04:01:13.673514Z",
     "iopub.status.idle": "2023-02-25T04:01:13.678599Z",
     "shell.execute_reply": "2023-02-25T04:01:13.677232Z"
    },
    "papermill": {
     "duration": 0.014088,
     "end_time": "2023-02-25T04:01:13.680917",
     "exception": false,
     "start_time": "2023-02-25T04:01:13.666829",
     "status": "completed"
    },
    "tags": []
   },
   "outputs": [],
   "source": [
    "# step_3.hint()\n",
    "# step_3.solution()"
   ]
  },
  {
   "cell_type": "markdown",
   "id": "6a8dae12",
   "metadata": {
    "papermill": {
     "duration": 0.006326,
     "end_time": "2023-02-25T04:01:13.692942",
     "exception": false,
     "start_time": "2023-02-25T04:01:13.686616",
     "status": "completed"
    },
    "tags": []
   },
   "source": [
    "Inspect your predictions and actual values from validation data."
   ]
  },
  {
   "cell_type": "code",
   "execution_count": 8,
   "id": "f55ab52d",
   "metadata": {
    "execution": {
     "iopub.execute_input": "2023-02-25T04:01:13.706486Z",
     "iopub.status.busy": "2023-02-25T04:01:13.705392Z",
     "iopub.status.idle": "2023-02-25T04:01:13.713460Z",
     "shell.execute_reply": "2023-02-25T04:01:13.711902Z"
    },
    "papermill": {
     "duration": 0.01761,
     "end_time": "2023-02-25T04:01:13.716041",
     "exception": false,
     "start_time": "2023-02-25T04:01:13.698431",
     "status": "completed"
    },
    "tags": []
   },
   "outputs": [
    {
     "name": "stdout",
     "output_type": "stream",
     "text": [
      "[186500. 184000. 130000.  92000. 164500.]\n",
      "0    208500\n",
      "1    181500\n",
      "2    223500\n",
      "3    140000\n",
      "4    250000\n",
      "Name: SalePrice, dtype: int64\n"
     ]
    }
   ],
   "source": [
    "# print the top few validation predictions\n",
    "\n",
    "# print the top few actual prices from validation data\n",
    "\n",
    "print(val_predictions[:5])\n",
    "print(y.head())"
   ]
  },
  {
   "cell_type": "markdown",
   "id": "8878781b",
   "metadata": {
    "papermill": {
     "duration": 0.005398,
     "end_time": "2023-02-25T04:01:13.727083",
     "exception": false,
     "start_time": "2023-02-25T04:01:13.721685",
     "status": "completed"
    },
    "tags": []
   },
   "source": [
    "What do you notice that is different from what you saw with in-sample predictions (which are printed after the top code cell in this page).\n",
    "\n",
    "Do you remember why validation predictions differ from in-sample (or training) predictions? This is an important idea from the last lesson.\n",
    "\n",
    "## Step 4: Calculate the Mean Absolute Error in Validation Data\n"
   ]
  },
  {
   "cell_type": "code",
   "execution_count": 9,
   "id": "a3531e85",
   "metadata": {
    "execution": {
     "iopub.execute_input": "2023-02-25T04:01:13.740498Z",
     "iopub.status.busy": "2023-02-25T04:01:13.739711Z",
     "iopub.status.idle": "2023-02-25T04:01:13.751685Z",
     "shell.execute_reply": "2023-02-25T04:01:13.750204Z"
    },
    "papermill": {
     "duration": 0.021684,
     "end_time": "2023-02-25T04:01:13.754246",
     "exception": false,
     "start_time": "2023-02-25T04:01:13.732562",
     "status": "completed"
    },
    "tags": []
   },
   "outputs": [
    {
     "name": "stdout",
     "output_type": "stream",
     "text": [
      "29652.931506849316\n"
     ]
    },
    {
     "data": {
      "application/javascript": [
       "parent.postMessage({\"jupyterEvent\": \"custom.exercise_interaction\", \"data\": {\"outcomeType\": 1, \"valueTowardsCompletion\": 0.25, \"interactionType\": 1, \"questionType\": 1, \"questionId\": \"4_MAE\", \"learnToolsVersion\": \"0.3.4\", \"failureMessage\": \"\", \"exceptionClass\": \"\", \"trace\": \"\"}}, \"*\")"
      ],
      "text/plain": [
       "<IPython.core.display.Javascript object>"
      ]
     },
     "metadata": {},
     "output_type": "display_data"
    },
    {
     "data": {
      "text/markdown": [
       "<span style=\"color:#33cc33\">Correct</span>"
      ],
      "text/plain": [
       "Correct"
      ]
     },
     "metadata": {},
     "output_type": "display_data"
    }
   ],
   "source": [
    "from sklearn.metrics import mean_absolute_error\n",
    "val_mae = mean_absolute_error(val_y,val_predictions)\n",
    "\n",
    "# uncomment following line to see the validation_mae\n",
    "print(val_mae)\n",
    "\n",
    "# Check your answer\n",
    "step_4.check()"
   ]
  },
  {
   "cell_type": "code",
   "execution_count": 10,
   "id": "a16755b6",
   "metadata": {
    "execution": {
     "iopub.execute_input": "2023-02-25T04:01:13.768977Z",
     "iopub.status.busy": "2023-02-25T04:01:13.767814Z",
     "iopub.status.idle": "2023-02-25T04:01:13.772154Z",
     "shell.execute_reply": "2023-02-25T04:01:13.771332Z"
    },
    "papermill": {
     "duration": 0.013982,
     "end_time": "2023-02-25T04:01:13.774229",
     "exception": false,
     "start_time": "2023-02-25T04:01:13.760247",
     "status": "completed"
    },
    "tags": []
   },
   "outputs": [],
   "source": [
    "# step_4.hint()\n",
    "# step_4.solution()"
   ]
  },
  {
   "cell_type": "markdown",
   "id": "b5d88f8a",
   "metadata": {
    "papermill": {
     "duration": 0.005586,
     "end_time": "2023-02-25T04:01:13.785676",
     "exception": false,
     "start_time": "2023-02-25T04:01:13.780090",
     "status": "completed"
    },
    "tags": []
   },
   "source": [
    "Is that MAE good?  There isn't a general rule for what values are good that applies across applications. But you'll see how to use (and improve) this number in the next step.\n",
    "\n",
    "# Keep Going\n",
    "\n",
    "You are ready for **[Underfitting and Overfitting](https://www.kaggle.com/dansbecker/underfitting-and-overfitting).**\n"
   ]
  },
  {
   "cell_type": "markdown",
   "id": "1d8dad37",
   "metadata": {
    "papermill": {
     "duration": 0.005357,
     "end_time": "2023-02-25T04:01:13.797378",
     "exception": false,
     "start_time": "2023-02-25T04:01:13.792021",
     "status": "completed"
    },
    "tags": []
   },
   "source": [
    "---\n",
    "\n",
    "\n",
    "\n",
    "\n",
    "*Have questions or comments? Visit the [course discussion forum](https://www.kaggle.com/learn/intro-to-machine-learning/discussion) to chat with other learners.*"
   ]
  }
 ],
 "metadata": {
  "kernelspec": {
   "display_name": "Python 3",
   "language": "python",
   "name": "python3"
  },
  "language_info": {
   "codemirror_mode": {
    "name": "ipython",
    "version": 3
   },
   "file_extension": ".py",
   "mimetype": "text/x-python",
   "name": "python",
   "nbconvert_exporter": "python",
   "pygments_lexer": "ipython3",
   "version": "3.7.12"
  },
  "papermill": {
   "default_parameters": {},
   "duration": 12.4285,
   "end_time": "2023-02-25T04:01:14.525738",
   "environment_variables": {},
   "exception": null,
   "input_path": "__notebook__.ipynb",
   "output_path": "__notebook__.ipynb",
   "parameters": {},
   "start_time": "2023-02-25T04:01:02.097238",
   "version": "2.4.0"
  }
 },
 "nbformat": 4,
 "nbformat_minor": 5
}
